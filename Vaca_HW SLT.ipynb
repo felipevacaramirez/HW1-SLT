{
 "cells": [
  {
   "cell_type": "markdown",
   "metadata": {},
   "source": [
    "# Homework on Statistical Learning Theory"
   ]
  },
  {
   "cell_type": "markdown",
   "metadata": {},
   "source": [
    "<b>Deadline:</b> 24.12.2018, 9 a.m. (there would be no soft deadline)\n",
    "\n",
    "<b>How to hang in?</b> You need to put your Jupyter Notebook to GitHub repo and send link in Telegram to <b>@CroCode</b>"
   ]
  },
  {
   "cell_type": "markdown",
   "metadata": {
    "collapsed": true
   },
   "source": [
    "Felipe Vaca"
   ]
  },
  {
   "cell_type": "markdown",
   "metadata": {},
   "source": [
    "### Block №1. Combinatorics and Probability Theory\n",
    "\n",
    "You can use LaTeX expressions in order to provide formulas: https://en.wikibooks.org/wiki/LaTeX"
   ]
  },
  {
   "cell_type": "markdown",
   "metadata": {},
   "source": [
    "1) In how many ways can the letters of the word PROBABILITY be rearranged such that all I’s and P’s appear in the middle?\n",
    "\n",
    "<b>Total:</b> 1 point"
   ]
  },
  {
   "cell_type": "markdown",
   "metadata": {
    "collapsed": true
   },
   "source": [
    "The word PROBABILITY has 11 letters. Since all I's and P's appear in the middle, the 8 remaining letters can be arranged in $\\frac{8!}{2!} = 20160$; the denominator is included because there are two B's. \n",
    "\n",
    "The I's and P's can be also rearranged in the middle positions in $\\frac{3!}{2!} = 3$, ; the denominator is included because there are two I's. \n",
    "\n",
    "Thus, the number of ways in which the letters of the word PROBABILITY can be rearranged such that all I’s and P’s appear in the middle is $20160 (3) = 60480$."
   ]
  },
  {
   "cell_type": "markdown",
   "metadata": {},
   "source": [
    "2) The probability of having defect (at least 1 defective product) in batch of 100 products is 63.2%. Find the probability of having less than 3 defective products in such a batch.\n",
    "\n",
    "<i>Hint:</i> use idea of Poisson distribution (https://en.wikipedia.org/wiki/Poisson_distribution)\n",
    "\n",
    "<b>Total:</b> 1.5 points"
   ]
  },
  {
   "cell_type": "markdown",
   "metadata": {
    "collapsed": true
   },
   "source": [
    "Let $\\textbf{X}$ be the random variable \"number of defective products out of 100\". A first approach consists on modelling $\\textbf{X}$ as a binomial random variable, i.e. $\\textbf{X} \\sim Bin(100,0.632)$. In this case, $P(X<3) = \\sum_{i=0}^2 C_{i}^{100} (0.632)^{i} (1-0.632)^{100-i} \\approx 5.68 * 10^{-40}$\n",
    "\n",
    "The binomial distribution can be approximated by a Poisson distribution when n is \"large\" and p is \"small\", by setting $\\lambda = np$. In this case, I do not consider that p fulfills such requirement. Nevertheless, I report the results:\n",
    "\n",
    "$P(X<3) = \\sum_{i=0}^2 \\frac{e^{-100(0.632)}(100(0.632))^i}{i!} \\approx 7.36 * 10^{-25}$."
   ]
  },
  {
   "cell_type": "markdown",
   "metadata": {},
   "source": [
    "### Block №2. Data Structures and Algorithms\n",
    "\n",
    "<b><i>NB!</i></b> Here you need to provide solution having minimal memory and runtime complexity in terms of Big O notation."
   ]
  },
  {
   "cell_type": "markdown",
   "metadata": {},
   "source": [
    "3) Suggest an algorithm that resets all elements in the column <i>i</i> and the row <i>j</i> of the matrix M to zeros if the element in the <i>(i, j)</i> cell is zero. Provide solution having minimal memory and runtime complexity in terms of Big O notation.\n",
    "\n",
    "<b>Input:</b> matrix M\n",
    "\n",
    "<b>Output:</b> modified according to condition matrix M\n",
    "\n",
    "<b>Total:</b> 2 points"
   ]
  },
  {
   "cell_type": "code",
   "execution_count": 79,
   "metadata": {},
   "outputs": [],
   "source": [
    "import numpy as np\n",
    "\n",
    "#Input. M :a matrix of dimension m x n\n",
    "def g(M):\n",
    "    nr = np.shape(M)[0]\n",
    "    nc = np.shape(M)[1]\n",
    "    # 1. Create two row vectors filled with ones, r and c, of dimensions m x 1 and n x 1, respectively. \n",
    "    r = [1] * nr\n",
    "    c = [1] * nc\n",
    "    # 2. For each element M[i,j], if it is zero, then set r[i] and c[j] equal to 0. (The complexity of this step is O(mn))\n",
    "    for i in np.arange(nr):\n",
    "        for j in np.arange(nc):\n",
    "            if M[i,j] == 0:\n",
    "                r[i] = 0\n",
    "                c[j] = 0\n",
    "            else:\n",
    "                pass\n",
    "    # 3. The resulting matrix is given by M1 = r' * c.  (The complexity of this step is O(mn))    \n",
    "    M1 = np.matmul(np.matrix(r).T, np.matrix(c))\n",
    "    M1 = np.multiply(M1,M)\n",
    "    # Return M1.    \n",
    "    return (M1)\n",
    "    # I noticed that an entry of the new matrix is non-null only when there are non-null entries on its corresponding row and column. \n",
    "    # Then the step 3 is is equivalent to perform the logical operation AND between all the possible pairs r[i] and c[j], for \n",
    "    # i = 1,...,m; j = 1,...,n\n",
    "\n",
    "    \n",
    "    "
   ]
  },
  {
   "cell_type": "code",
   "execution_count": 80,
   "metadata": {},
   "outputs": [
    {
     "name": "stdout",
     "output_type": "stream",
     "text": [
      "M = \n",
      " [[1 0 2]\n",
      " [0 1 1]\n",
      " [4 1 2]]\n",
      "M1 = \n",
      " [[0 0 0]\n",
      " [0 0 0]\n",
      " [0 0 2]]\n"
     ]
    }
   ],
   "source": [
    "# Examples\n",
    "M = np.matrix([[1,0,2],[0,1,1],[4,1,2]])\n",
    "M1 = g(M)\n",
    "print(\"M = \\n\",M)\n",
    "print(\"M1 = \\n\",M1)\n",
    "\n",
    "N = np.matrix([[1,1,2]])\n",
    "print(g(N))"
   ]
  },
  {
   "cell_type": "markdown",
   "metadata": {},
   "source": [
    "4) Imagine you have a square picture, each pixel of which can be black or white (you can interpret it as binary matrix). Develop an algorithm for finding the maximum sub-square consisting of only black pixels.\n",
    "\n",
    "<b>Input:</b> binary matrix M (contains only 0-1 elements)\n",
    "\n",
    "<b>Output:</b> <i>((a1, b1),(a2, b2))</i> where <i>(a1, b1)</i> and <i>(a2, b2)</i> stay for coordinates of upper-left and lower-right sub-square corners respectively\n",
    "\n",
    "<b>Total:</b> 2.5 points"
   ]
  },
  {
   "cell_type": "code",
   "execution_count": 117,
   "metadata": {},
   "outputs": [],
   "source": [
    "#import numpy as np\n",
    "# Input. M: a square matrix of dimension n x n \n",
    "def maxsq(M):\n",
    "    # a1, b1, a2, and b2 as above.   \n",
    "    a1 = None\n",
    "    a2 = None\n",
    "    b1 = None\n",
    "    b2 = None\n",
    "    s = 0 # size of the maximun sub-square consisting of only black pixels.\n",
    "    n = len(M)\n",
    "    for i in np.arange(n):\n",
    "        for j in np.arange(n):\n",
    "            # The complexity of both loops is O(mn)\n",
    "            # First, check potential candidates (i.e., whose value is 0) in the position M[i,j]\n",
    "            if M[i,j] == 0:\n",
    "                # If so, update coordinates and size of the sub-square consisting of only black pixels.\n",
    "                # \n",
    "                a10 = i\n",
    "                a20 = i\n",
    "                b10 = j\n",
    "                b20 = j\n",
    "                s0 = 1              \n",
    "\n",
    "                # Starting from this coordinate, try to find the maximum sub-square consisting of only black pixels.\n",
    "                # First, explore the 'new' diagonal (going down and right from (a10,b10))\n",
    "                k = 1\n",
    "                while ((i+k) < n and (j+k) < n) and M[i+k,j+k] == 0:\n",
    "                    # Second, check that all the elements of the rows of the subsquare equal zero\n",
    "                    if np.sum(M[i:(i+k+1),j:(j+k+1)]) == 0:\n",
    "                        a20 = i+k\n",
    "                        b20 = j+k\n",
    "                        s0 += 1\n",
    "                        k += 1    \n",
    "                    else:\n",
    "                        break\n",
    "\n",
    "\n",
    "                #   3.4 Repeat 3.3. until a sub-square of zeros is found. Update s with s = a2 - a1 + 1.\n",
    "                # (The complexity of this step is O(mn))\n",
    "\n",
    "                if s0 > s:\n",
    "                    a1 = a10\n",
    "                    b1 = b10\n",
    "                    a2 = a20\n",
    "                    b2 = b20\n",
    "                    s = s0\n",
    "\n",
    "                else:\n",
    "                    pass\n",
    "\n",
    "            else: \n",
    "                pass\n",
    "\n",
    "    return ((a1,b1),(a2,b2),s) \n",
    "\n",
    "# Memory complexity: O(1), since we have only required a1, a2, b1, b2, and s. \n",
    "# Runtime complexity: O((mn)^2)"
   ]
  },
  {
   "cell_type": "code",
   "execution_count": 120,
   "metadata": {},
   "outputs": [
    {
     "name": "stdout",
     "output_type": "stream",
     "text": [
      "[[1 0 1]\n",
      " [0 1 1]\n",
      " [0 1 1]]\n",
      "((0, 1), (0, 1), 1)\n",
      "[[0 0 0]\n",
      " [0 0 0]\n",
      " [0 0 0]]\n",
      "((0, 0), (2, 2), 3)\n",
      "[[1 1 1]\n",
      " [1 1 1]\n",
      " [1 1 1]]\n",
      "((None, None), (None, None), 0)\n",
      "[[1 0 1]\n",
      " [0 0 1]\n",
      " [0 0 1]]\n",
      "((1, 0), (2, 1), 2)\n"
     ]
    }
   ],
   "source": [
    "# Examples\n",
    "\n",
    "M1 = np.matrix([[1,0,1],[0,1,1],[0,1,1]])\n",
    "print(M1)\n",
    "print(maxsq(M1))\n",
    "\n",
    "M2 = np.matrix([[0,0,0],[0,0,0],[0,0,0]])\n",
    "print(M2)\n",
    "print(maxsq(M2))\n",
    "\n",
    "M3 = np.matrix([[1,1,1],[1,1,1],[1,1,1]])\n",
    "print(M3)\n",
    "print(maxsq(M3))\n",
    "\n",
    "M4 = np.matrix([[1,0,1],[0,0,1],[0,0,1]])\n",
    "print(M4)\n",
    "print(maxsq(M4))"
   ]
  },
  {
   "cell_type": "markdown",
   "metadata": {},
   "source": [
    "5) Imagine series of integer numbers having only 3, 5 or 7 of some power in their factorization (i.e. 1, 3, 5, 7, 9, 15 etc.). Given k you're asked to return k-th number in this series.\n",
    "\n",
    "<i>Helpful link</i>: https://en.wikipedia.org/wiki/Fundamental_theorem_of_arithmetic\n",
    "\n",
    "<b>Input:</b> integer number k\n",
    "\n",
    "<b>Output:</b> k-th number of series\n",
    "\n",
    "<b>Total:</b> 3 points"
   ]
  },
  {
   "cell_type": "code",
   "execution_count": 93,
   "metadata": {},
   "outputs": [],
   "source": [
    "# Brute force algorithm: verify all the necessary numbers, starting from 1, until we reach k numbers of the series\n",
    "# Input: k, the index of the k-th element of the series.\n",
    "\n",
    "def f(k):\n",
    "    x = None # x will contain the kth element of the series\n",
    "    y = 1 # counter of the number of elements from the series (3^x)(5^y)(7^z), for non negative integers x, y, z,\n",
    "    # that we have generated.\n",
    "    \n",
    "    if k == 1:\n",
    "        x = 1\n",
    "    else:\n",
    "        n = 2\n",
    "    \n",
    "    while y < k:\n",
    "        if (n % 3) == 0 or (n % 5) == 0 or (n % 7) == 0:\n",
    "            x = n\n",
    "            y += 1 \n",
    "\n",
    "        n = n + 1\n",
    "    return (x)\n",
    "\n",
    "# Memory complexity: O(1)\n",
    "# Runtime complexity: ..."
   ]
  },
  {
   "cell_type": "code",
   "execution_count": 107,
   "metadata": {},
   "outputs": [
    {
     "name": "stdout",
     "output_type": "stream",
     "text": [
      "[1, 3, 5, 6, 7, 9, 10, 12, 14]\n",
      "18420\n"
     ]
    }
   ],
   "source": [
    "# Examples\n",
    "print([f(k) for k in np.arange(1,10)])\n",
    "print(f(10000))"
   ]
  }
 ],
 "metadata": {
  "kernelspec": {
   "display_name": "Python 3",
   "language": "python",
   "name": "python3"
  },
  "language_info": {
   "codemirror_mode": {
    "name": "ipython",
    "version": 3
   },
   "file_extension": ".py",
   "mimetype": "text/x-python",
   "name": "python",
   "nbconvert_exporter": "python",
   "pygments_lexer": "ipython3",
   "version": "3.6.4"
  }
 },
 "nbformat": 4,
 "nbformat_minor": 2
}
